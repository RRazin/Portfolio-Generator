{
  "nbformat": 4,
  "nbformat_minor": 0,
  "metadata": {
    "kernelspec": {
      "display_name": "Python 3",
      "language": "python",
      "name": "python3"
    },
    "language_info": {
      "codemirror_mode": {
        "name": "ipython",
        "version": 3
      },
      "file_extension": ".py",
      "mimetype": "text/x-python",
      "name": "python",
      "nbconvert_exporter": "python",
      "pygments_lexer": "ipython3",
      "version": "3.7.6"
    },
    "colab": {
      "name": "Quiz_final.ipynb",
      "provenance": [],
      "collapsed_sections": [],
      "toc_visible": true,
      "include_colab_link": true
    }
  },
  "cells": [
    {
      "cell_type": "markdown",
      "metadata": {
        "id": "view-in-github",
        "colab_type": "text"
      },
      "source": [
        "<a href=\"https://colab.research.google.com/github/RRazin/Portfolio-Generator/blob/master/180021215_Razin.ipynb\" target=\"_parent\"><img src=\"https://colab.research.google.com/assets/colab-badge.svg\" alt=\"Open In Colab\"/></a>"
      ]
    },
    {
      "cell_type": "markdown",
      "metadata": {
        "id": "VhbuK2fLKUVG"
      },
      "source": [
        "# Question - 01"
      ]
    },
    {
      "cell_type": "markdown",
      "metadata": {
        "id": "_gJxUqGjKUVM"
      },
      "source": [
        "Given a 2D array of size (m,n) - \n",
        "sort all the diagonal elements of the array.\n",
        "\n",
        "Write a function that will take the array and a boolean as input and provide the sorted array as output.\n",
        "\n",
        "The default value for boolen is True.\n",
        "If set to False, sort the anti-diagonal elements"
      ]
    },
    {
      "cell_type": "markdown",
      "metadata": {
        "id": "PjAkZ9gjKUVO"
      },
      "source": [
        "For example,\n",
        "\n",
        "---\n",
        "\n",
        "\n",
        "input = [[1,2,3],\n",
        "         [4,0,1],\n",
        "         [9,3,10]]\n",
        "         \n",
        "output= [[0,1,3],\n",
        "         [3,1,2],\n",
        "         [9,4,10]]"
      ]
    },
    {
      "cell_type": "markdown",
      "metadata": {
        "id": "h-8Fn-zTKUVQ"
      },
      "source": [
        "main diagonal elements are = 1,0,10   --- sorted as -> 0,1,10\n",
        "diag 1 elements are        = 2,1      --- sorted as -> 1,2\n",
        "diag 2 elements are        = 3        --- sorted as -> 3\n",
        "diag -1 elements are       = 4,3      --- sorted as -> 3,4\n",
        "diag -2 elements are       = 9        --- sorted as -> 9\n"
      ]
    },
    {
      "cell_type": "code",
      "metadata": {
        "id": "oYDBgtqhKUVS"
      },
      "source": [
        "def ques_01(arr, diag=True):\n",
        "    for column in range(len(arr[0]) - 1):\n",
        "        diagonal = []\n",
        "        col = column\n",
        "\n",
        "        for row in range(len(arr)):\n",
        "            diagonal.append(arr[row][col])\n",
        "            col += 1\n",
        "\n",
        "            if col >= len(arr[0]):\n",
        "                break\n",
        "\n",
        "        diagonal = sorted(diagonal)\n",
        "        col = column\n",
        "\n",
        "        for row in range(len(arr)):\n",
        "            arr[row][col] = diagonal[row]\n",
        "            col += 1\n",
        "\n",
        "            if col >= len(arr[0]):\n",
        "                break\n",
        "\n",
        "    for row in range(1, len(arr)):\n",
        "        diagonal = []\n",
        "        r = row\n",
        "\n",
        "        for column in range(len(arr[0])):\n",
        "            diagonal.append(arr[r][column])\n",
        "            r += 1\n",
        "\n",
        "            if r >= len(arr):\n",
        "                break\n",
        "\n",
        "        diagonal = sorted(diagonal)\n",
        "        r = row\n",
        "\n",
        "        for column in range(len(arr[0])):\n",
        "            arr[r][column] = diagonal[column]\n",
        "            r += 1\n",
        "\n",
        "            if r >= len(arr):\n",
        "                break\n",
        "\n",
        "    return arr"
      ],
      "execution_count": 87,
      "outputs": []
    },
    {
      "cell_type": "code",
      "metadata": {
        "colab": {
          "base_uri": "https://localhost:8080/",
          "height": 0
        },
        "id": "kTiP4I2yKUVU",
        "outputId": "7912b22a-2b56-4ead-fd50-d9f2b917d99a"
      },
      "source": [
        "# run this cell to check your output. Don't modify this cell\n",
        "arr= [[1,2,3],\n",
        "      [4,0,1],\n",
        "      [9,3,10]]\n",
        "out= [[0,1,3],\n",
        "      [3,1,2],\n",
        "      [9,4,10]]\n",
        "\n",
        "ques_01(arr,diag=True)==out"
      ],
      "execution_count": 88,
      "outputs": [
        {
          "output_type": "execute_result",
          "data": {
            "text/plain": [
              "True"
            ]
          },
          "metadata": {
            "tags": []
          },
          "execution_count": 88
        }
      ]
    },
    {
      "cell_type": "code",
      "metadata": {
        "colab": {
          "base_uri": "https://localhost:8080/",
          "height": 0
        },
        "id": "uqSQarumKUVV",
        "outputId": "f2506502-a32c-446e-9036-90ccd6cdeb0d"
      },
      "source": [
        "# run this cell to check your output. Don't modify this cell\n",
        "arr= [[1,2,3,4,6,8],\n",
        "      [4,0,1,5,4,7]]\n",
        "\n",
        "out= [[0,1,3,4,6,8],\n",
        "      [4,1,2,5,4,7]]\n",
        "\n",
        "ques_01(arr)==out"
      ],
      "execution_count": 89,
      "outputs": [
        {
          "output_type": "execute_result",
          "data": {
            "text/plain": [
              "True"
            ]
          },
          "metadata": {
            "tags": []
          },
          "execution_count": 89
        }
      ]
    },
    {
      "cell_type": "code",
      "metadata": {
        "colab": {
          "base_uri": "https://localhost:8080/",
          "height": 0
        },
        "id": "IXo8tYgzKUVX",
        "outputId": "9633600c-ebb2-4ced-dea3-266e99e08d71"
      },
      "source": [
        "# run this cell to check your output. Don't modify this cell\n",
        "arr= [[1,2,3,4,6,8],\n",
        "      [4,0,1,5,4,7]]\n",
        "\n",
        "out= [[1,2,0,1,5,4],\n",
        "      [4,3,4,6,8,7]]\n",
        "\n",
        "ques_01(arr,diag=False)==out"
      ],
      "execution_count": 90,
      "outputs": [
        {
          "output_type": "execute_result",
          "data": {
            "text/plain": [
              "False"
            ]
          },
          "metadata": {
            "tags": []
          },
          "execution_count": 90
        }
      ]
    },
    {
      "cell_type": "markdown",
      "metadata": {
        "id": "TJi1pIpKKUVY"
      },
      "source": [
        "# Question - 02"
      ]
    },
    {
      "cell_type": "markdown",
      "metadata": {
        "id": "yQtJnrqmKUVZ"
      },
      "source": [
        "You are given a list of lists. \n",
        "For example, [ [1] , [2,5,9] , [7,4] ]\n",
        "\n",
        "Now pad the inner lists such that all of them are of same size(the size of the longest array).\n",
        "output= [ [1,0,0], [2,5,9], [7,4,0] ]"
      ]
    },
    {
      "cell_type": "markdown",
      "metadata": {
        "id": "SyP68v-NKUVb"
      },
      "source": [
        "Write a function that will take two inputs - the list and a string(pre/post).\n",
        "If string is post, add zeros at the end\n",
        "If string is pre,  add zeros at the front\n",
        "If given a invalid string, return a error message - \"Invalid Input\""
      ]
    },
    {
      "cell_type": "code",
      "metadata": {
        "id": "1DLM4qKPKUVc"
      },
      "source": [
        "def ques_02(arr, s):\n",
        "    length = []\n",
        "    for lists in arr:\n",
        "        length.append(len(lists))\n",
        "    maxLength = max(length)\n",
        "    for l in arr:\n",
        "        if s == \"post\":\n",
        "            while(len(l)!=maxLength):\n",
        "                l.append(0)\n",
        "        elif s == 'pre':\n",
        "            while(len(l)!=maxLength):\n",
        "                l.insert(0,0)\n",
        "        else:\n",
        "            return \"Invalid Input\"\n",
        "    return arr"
      ],
      "execution_count": 67,
      "outputs": []
    },
    {
      "cell_type": "code",
      "metadata": {
        "colab": {
          "base_uri": "https://localhost:8080/",
          "height": 0
        },
        "id": "vfB2JjQRKUVd",
        "outputId": "23ca5918-9627-4277-92ce-c21d2821f9ec"
      },
      "source": [
        "# run this cell to check your output. Don't modify this cell\n",
        "\n",
        "arr= [ [1] , [2,5,9] , [7,4] ]\n",
        "s= 'post'\n",
        "out= [[1,0,0], [2,5,9], [7,4,0] ]\n",
        "\n",
        "\n",
        "ques_02(arr,s)==out"
      ],
      "execution_count": 68,
      "outputs": [
        {
          "output_type": "execute_result",
          "data": {
            "text/plain": [
              "True"
            ]
          },
          "metadata": {
            "tags": []
          },
          "execution_count": 68
        }
      ]
    },
    {
      "cell_type": "code",
      "metadata": {
        "colab": {
          "base_uri": "https://localhost:8080/",
          "height": 0
        },
        "id": "FTB_DesPKUVe",
        "outputId": "301a0d6c-7a03-4d6f-c4b5-51f60118b9a1"
      },
      "source": [
        "# run this cell to check your output. Don't modify this cell\n",
        "\n",
        "arr= [ [1] , [2,5,9] , [7,4] ]\n",
        "s= 'p'\n",
        "out= [[1,0,0], [2,5,9], [7,4,0] ]\n",
        "\n",
        "\n",
        "ques_02(arr,s)=='Invalid Input'"
      ],
      "execution_count": 69,
      "outputs": [
        {
          "output_type": "execute_result",
          "data": {
            "text/plain": [
              "True"
            ]
          },
          "metadata": {
            "tags": []
          },
          "execution_count": 69
        }
      ]
    },
    {
      "cell_type": "code",
      "metadata": {
        "colab": {
          "base_uri": "https://localhost:8080/",
          "height": 0
        },
        "id": "8jH13xVSKUVf",
        "outputId": "277d1618-5429-4eee-d663-a95904e32176"
      },
      "source": [
        "# run this cell to check your output. Don't modify this cell\n",
        "\n",
        "arr= [ [1] , [2,5,9,6,1] , [7,4,4,3,1] ]\n",
        "s= 'pre'\n",
        "out= [[0,0,0,0,1], [2,5,9,6,1],  [7,4,4,3,1] ]\n",
        "\n",
        "ques_02(arr,s)==out"
      ],
      "execution_count": 70,
      "outputs": [
        {
          "output_type": "execute_result",
          "data": {
            "text/plain": [
              "True"
            ]
          },
          "metadata": {
            "tags": []
          },
          "execution_count": 70
        }
      ]
    },
    {
      "cell_type": "markdown",
      "metadata": {
        "id": "5v00J1k2KUVg"
      },
      "source": [
        "# Ques - 03"
      ]
    },
    {
      "cell_type": "markdown",
      "metadata": {
        "id": "Ni6Ghq3yKUVh"
      },
      "source": [
        "A sphenic number is a positive integer that is the product of three distinct prime numbers.\n",
        "For example, 30 = 2*3*5\n"
      ]
    },
    {
      "cell_type": "markdown",
      "metadata": {
        "id": "oXp1nMzYKUVi"
      },
      "source": [
        "Given a number, first check if it is a sphenic number; if so return those\n",
        "primes.\n",
        "If not return False."
      ]
    },
    {
      "cell_type": "markdown",
      "metadata": {
        "id": "yUENbQAyKUVj"
      },
      "source": [
        "Input:  [ 30, 32, 230]\n",
        "Output: [ [2,3,5], False, [2,5,23] ]"
      ]
    },
    {
      "cell_type": "code",
      "metadata": {
        "id": "icLPYV_9KUVk"
      },
      "source": [
        "def ques_03(arr):\n",
        "  out=[]\n",
        "  for j in arr:\n",
        "    i = 2\n",
        "    factorsofnumber = []\n",
        "    while i * i <= j:\n",
        "      if j % i:\n",
        "        i += 1\n",
        "      else:\n",
        "        j//= i\n",
        "        factorsofnumber.append(i)\n",
        "    if j> 1:\n",
        "      factorsofnumber.append(j)\n",
        "    if len(factorsofnumber)==3:\n",
        "      out.append(factorsofnumber)\n",
        "    else:\n",
        "      out.append(False)\n",
        "  return out"
      ],
      "execution_count": 71,
      "outputs": []
    },
    {
      "cell_type": "code",
      "metadata": {
        "colab": {
          "base_uri": "https://localhost:8080/",
          "height": 0
        },
        "id": "18iRCqntKUVl",
        "outputId": "caadf9ef-c2c5-4d91-eba9-5d60dfafc0cc"
      },
      "source": [
        "# run this cell to check your output. Don't modify this cell\n",
        "\n",
        "Input=  [ 30, 32, 230]\n",
        "Output= [ [2,3,5], False, [2,5,23] ]\n",
        "\n",
        "ques_03(Input)==Output"
      ],
      "execution_count": 72,
      "outputs": [
        {
          "output_type": "execute_result",
          "data": {
            "text/plain": [
              "True"
            ]
          },
          "metadata": {
            "tags": []
          },
          "execution_count": 72
        }
      ]
    },
    {
      "cell_type": "code",
      "metadata": {
        "colab": {
          "base_uri": "https://localhost:8080/",
          "height": 0
        },
        "id": "jKhQ4W8zKUVm",
        "outputId": "5685f570-73f6-40c5-e53c-a912f6a019cf"
      },
      "source": [
        "# run this cell to check your output. Don't modify this cell\n",
        "\n",
        "Input=  [ 222, 434, 969, 1311]\n",
        "Output= [ [2,3,37], [2,7,31], [3,17,19], [3,19,23] ]\n",
        "\n",
        "ques_03(Input)==Output"
      ],
      "execution_count": 73,
      "outputs": [
        {
          "output_type": "execute_result",
          "data": {
            "text/plain": [
              "True"
            ]
          },
          "metadata": {
            "tags": []
          },
          "execution_count": 73
        }
      ]
    },
    {
      "cell_type": "code",
      "metadata": {
        "colab": {
          "base_uri": "https://localhost:8080/",
          "height": 0
        },
        "id": "WlfBn7RYKUVn",
        "outputId": "7cd80aa2-43c0-4b15-acf8-22cc9dee3880"
      },
      "source": [
        "# run this cell to check your output. Don't modify this cell\n",
        "\n",
        "Input=  [ 22, 43]\n",
        "Output= [ False, False ]\n",
        "\n",
        "ques_03(Input)==Output"
      ],
      "execution_count": 74,
      "outputs": [
        {
          "output_type": "execute_result",
          "data": {
            "text/plain": [
              "True"
            ]
          },
          "metadata": {
            "tags": []
          },
          "execution_count": 74
        }
      ]
    },
    {
      "cell_type": "markdown",
      "metadata": {
        "id": "bknddD44KUVo"
      },
      "source": [
        "# Question - 04"
      ]
    },
    {
      "cell_type": "markdown",
      "metadata": {
        "id": "fusXFI5dKUVo"
      },
      "source": [
        "Connect four is a two player board game.\n",
        "<https://en.wikipedia.org/wiki/Connect_Four>\n",
        "\n",
        "Given a complete connect-four board, determine who is the winner.\n",
        "\n",
        "User-1 is represented by 1\n",
        "User-2 is represented by 2\n",
        "\n",
        "Winner is the one with the highest number of sets of 4 consecutive numbers. A set can be comprised of same numbers on row, column, diagonal or anti-diagonal basis.\n",
        "\n"
      ]
    },
    {
      "cell_type": "markdown",
      "metadata": {
        "id": "2NQ0_TREKUVp"
      },
      "source": [
        "x= [2 2 1 1 2 1 2;\n",
        "    1 2 2 1 1 1 1;\n",
        "    1 2 1 1 2 2 2;\n",
        "    2 1 2 2 2 1 1;\n",
        "    1 1 2 1 2 1 1;\n",
        "    2 1 1 2 2 2 1]\n",
        "\n",
        " here in the 5th column, we've a set of 2;\n",
        "\n",
        "      in the 2nd row, we've a set of 1;\n",
        "\n",
        "      in the 2nd anti-diagonal, we've a set of 1;\n",
        "\n",
        " so, 1 is the winner."
      ]
    },
    {
      "cell_type": "markdown",
      "metadata": {
        "id": "X-OI4T_zKUVq"
      },
      "source": [
        "For simplicity, ignore the diagonal and anti-diagonal matches for now.\n",
        "only consider row or column wise."
      ]
    },
    {
      "cell_type": "markdown",
      "metadata": {
        "id": "mQ1pZyi-KUVr"
      },
      "source": [
        "To simplify even further, consider number of consecutive elements will not be greater than 4."
      ]
    },
    {
      "cell_type": "markdown",
      "metadata": {
        "id": "AVjnRDzDKUVs"
      },
      "source": [
        "write a function that will take a 2D array as input.\n",
        "\n",
        "return the winner - 1 or 2.\n",
        "If it is a tie, return 0."
      ]
    },
    {
      "cell_type": "code",
      "metadata": {
        "id": "dM6FmXDOKUVt"
      },
      "source": [
        "def ques_04(n):\n",
        "    lister = [0, 0, 0]\n",
        "    for row in n:\n",
        "        count = 1\n",
        "        for i in range(1, len(row)):\n",
        "            if row[i] == row[i - 1]:\n",
        "                count = count + 1\n",
        "                if count == 4:\n",
        "                    count = 0\n",
        "                    lister[row[i]] += 1\n",
        "            else:\n",
        "                count = 0\n",
        "\n",
        "    for j in range(0, len(n[0])):\n",
        "        count = 1\n",
        "        for i in range(1, len(n)):\n",
        "            if n[i][j] == n[i-1][j ]:\n",
        "                count += 1\n",
        "                if count == 4:\n",
        "                    count = 0\n",
        "                    lister[n[i][j]] += 1\n",
        "            else:\n",
        "                count = 0\n",
        "\n",
        "    if lister[1] == lister[2]:\n",
        "        return 0\n",
        "    elif lister[1] > lister[2]:\n",
        "        return 1\n",
        "    else:\n",
        "        return 2"
      ],
      "execution_count": 77,
      "outputs": []
    },
    {
      "cell_type": "code",
      "metadata": {
        "colab": {
          "base_uri": "https://localhost:8080/",
          "height": 0
        },
        "id": "r2f6qgkDKUVu",
        "outputId": "97423378-0dd8-46f3-b8ad-5cd45506f9b2"
      },
      "source": [
        "# run this cell to check your output. Don't modify this cell\n",
        "\n",
        "x= [[2, 2, 1, 1, 2, 1, 2],\n",
        "    [1, 2, 2, 1, 1, 1, 1],\n",
        "    [1, 2, 1, 1, 2, 1, 2],\n",
        "    [1, 2, 2, 2, 2, 1, 1]]\n",
        "y=0\n",
        "\n",
        "ques_04(x)==y"
      ],
      "execution_count": 78,
      "outputs": [
        {
          "output_type": "execute_result",
          "data": {
            "text/plain": [
              "True"
            ]
          },
          "metadata": {
            "tags": []
          },
          "execution_count": 78
        }
      ]
    },
    {
      "cell_type": "code",
      "metadata": {
        "colab": {
          "base_uri": "https://localhost:8080/",
          "height": 0
        },
        "id": "C-pt9p5aKUVu",
        "outputId": "3e3754fa-ffb5-4f24-fb5f-3f82788cd798"
      },
      "source": [
        "# run this cell to check your output. Don't modify this cell\n",
        "\n",
        "x= [[2, 2, 1, 1, 2, 1, 1],\n",
        "    [1, 2, 2, 1, 1, 1, 1],\n",
        "    [1, 2, 1, 1, 2, 1, 1],\n",
        "    [1, 2, 2, 2, 2, 1, 1]]\n",
        "y=1\n",
        "\n",
        "ques_04(x)==y"
      ],
      "execution_count": 65,
      "outputs": [
        {
          "output_type": "execute_result",
          "data": {
            "text/plain": [
              "True"
            ]
          },
          "metadata": {
            "tags": []
          },
          "execution_count": 65
        }
      ]
    },
    {
      "cell_type": "code",
      "metadata": {
        "colab": {
          "base_uri": "https://localhost:8080/",
          "height": 0
        },
        "id": "yVglj_kEKUVv",
        "outputId": "e1d3073f-836c-490e-fd70-b2746f3cb568"
      },
      "source": [
        "# run this cell to check your output. Don't modify this cell\n",
        "\n",
        "x= [[2, 2, 1, 1, 2],\n",
        "    [1, 2, 2, 2, 2],\n",
        "    [1, 2, 1, 1, 2],\n",
        "    [1, 2, 2, 2, 2]]\n",
        "y=2\n",
        "\n",
        "ques_04(x)==y"
      ],
      "execution_count": 66,
      "outputs": [
        {
          "output_type": "execute_result",
          "data": {
            "text/plain": [
              "True"
            ]
          },
          "metadata": {
            "tags": []
          },
          "execution_count": 66
        }
      ]
    },
    {
      "cell_type": "markdown",
      "metadata": {
        "id": "p8rL58eJKUVw"
      },
      "source": [
        "# Question - 05"
      ]
    },
    {
      "cell_type": "markdown",
      "metadata": {
        "id": "fC3A2qniKUVx"
      },
      "source": [
        "You are given a 2D array of size (m,n).\n",
        "Find the top 3 elements in the array and their index.\n",
        "   \n",
        "You've to return a dictionary. \n",
        "   "
      ]
    },
    {
      "cell_type": "markdown",
      "metadata": {
        "id": "WMzN-PmQKUVy"
      },
      "source": [
        "input= [[1,2,3],\n",
        "        [4,0,1],\n",
        "        [9,3,10]]\n",
        "\n",
        "output= { 'h1': { 'value': 10,\n",
        "                  'index': [2,2] },\n",
        "          'h2': { 'value': 9,\n",
        "                  'index': [2,0] },\n",
        "          'h3': { 'value': 4,\n",
        "                  'index': [1,0] } }"
      ]
    },
    {
      "cell_type": "code",
      "metadata": {
        "id": "uN6S91FOKUVz"
      },
      "source": [
        "import sys\n",
        "\n",
        "def ques_05(arr):\n",
        "    \n",
        "    first = -sys.maxsize\n",
        "    second = -sys.maxsize\n",
        "    third = -sys.maxsize\n",
        "\n",
        "    edodict = {\n",
        "        'h1': {\n",
        "            'value': first,\n",
        "            'index': [-1,-1]\n",
        "        },\n",
        "        'h2': {\n",
        "            'value': second,\n",
        "            'index': [-1,-1]\n",
        "        },\n",
        "        'h3': {\n",
        "            'value': third,\n",
        "            'index': [-1,-1]\n",
        "            \n",
        "        }\n",
        "    };\n",
        "    \n",
        "    for i in range(0, len(arr)):\n",
        "        a = arr[i]\n",
        "        for j in range(0, len(a)):\n",
        "            \n",
        "            if a[j] > edodict['h1']['value']:\n",
        "                edodict['h3']['value'] = edodict['h2']['value']\n",
        "                edodict['h3']['index'] = edodict['h2']['index']\n",
        "                \n",
        "                edodict['h2']['value'] = edodict['h1']['value']\n",
        "                edodict['h2']['index'] = edodict['h1']['index']\n",
        "                \n",
        "                edodict['h1']['value'] = a[j]\n",
        "                edodict['h1']['index'] = [i, j]\n",
        "                \n",
        "            elif a[j] > edodict['h2']['value']:\n",
        "                edodict['h3']['value'] = edodict['h2']['value']\n",
        "                edodict['h3']['index'] = edodict['h2']['index']\n",
        "                \n",
        "                edodict['h2']['value'] = a[j]\n",
        "                edodict['h2']['index'] = [i, j]\n",
        "            \n",
        "            elif a[j] > edodict['h3']['value']:\n",
        "                edodict['h3']['value'] = a[j]\n",
        "                edodict['h3']['index'] = [i, j]\n",
        "    \n",
        "    return edodict"
      ],
      "execution_count": 101,
      "outputs": []
    },
    {
      "cell_type": "code",
      "metadata": {
        "colab": {
          "base_uri": "https://localhost:8080/",
          "height": 0
        },
        "id": "9lTsv1zzKUV0",
        "outputId": "0df084de-a466-4714-e423-a6c3f2b3f54f"
      },
      "source": [
        "# run this cell to check your output. Don't modify this cell\n",
        "\n",
        "arr= [[1,2,24],\n",
        "      [4,0,1],\n",
        "      [9,3,10],\n",
        "      [23,4,40],\n",
        "      [25,100,9]]\n",
        "\n",
        "output= { 'h1': { 'value': 100,\n",
        "                  'index': [4,1] },\n",
        "          'h2': { 'value': 40,\n",
        "                  'index': [3,2] },\n",
        "          'h3': { 'value': 25,\n",
        "                  'index': [4,0] } }\n",
        "\n",
        "ques_05(arr)==output"
      ],
      "execution_count": 85,
      "outputs": [
        {
          "output_type": "execute_result",
          "data": {
            "text/plain": [
              "True"
            ]
          },
          "metadata": {
            "tags": []
          },
          "execution_count": 85
        }
      ]
    },
    {
      "cell_type": "code",
      "metadata": {
        "colab": {
          "base_uri": "https://localhost:8080/",
          "height": 0
        },
        "id": "ne15neJtKUV1",
        "outputId": "7d045742-541e-4083-ff0e-c7b3e6f6a824"
      },
      "source": [
        "# run this cell to check your output. Don't modify this cell\n",
        "\n",
        "arr= [[1,2,3],\n",
        "      [4,0,1],\n",
        "      [9,3,10]]\n",
        "\n",
        "output= { 'h1': { 'value': 10,\n",
        "                  'index': [2,2] },\n",
        "          'h2': { 'value': 9,\n",
        "                  'index': [2,0] },\n",
        "          'h3': { 'value': 4,\n",
        "                  'index': [1,0] } }\n",
        "\n",
        "ques_05(arr)==output"
      ],
      "execution_count": 102,
      "outputs": [
        {
          "output_type": "execute_result",
          "data": {
            "text/plain": [
              "True"
            ]
          },
          "metadata": {
            "tags": []
          },
          "execution_count": 102
        }
      ]
    },
    {
      "cell_type": "markdown",
      "metadata": {
        "id": "eEwenOQdKUV1"
      },
      "source": [
        "# Question - 06"
      ]
    },
    {
      "cell_type": "markdown",
      "metadata": {
        "id": "1uWCqUDfKUV4"
      },
      "source": [
        "Given a matrix of size (m,n) - \n",
        "Find the final state of the matrix assuming the matrix as an abelian sandpile. \n",
        "Think of the elements in the matrix as a pile of grains.\n",
        "\n",
        "By final state it means, all the elements in the matrix should be <4.\n",
        "\n",
        "Any elements greater than 4 should be evenly distributed around it i.e. distribute four sand grains, one each to the elements above, below, left and right. Continue doing this until all the piles(elements) in the matrix is less than 4."
      ]
    },
    {
      "cell_type": "markdown",
      "metadata": {
        "id": "4crj0V9NKUV5"
      },
      "source": [
        "input: [ 0 0 0 0\n",
        "         0 0 4 0\n",
        "         0 0 0 0 ]\n",
        "         \n",
        "output: [ 0 0 1 0\n",
        "          0 1 0 1\n",
        "          0 0 1 0 ]"
      ]
    },
    {
      "cell_type": "markdown",
      "metadata": {
        "id": "nW8T_8rQKUV6"
      },
      "source": [
        "input: [ 0 0 0 0\n",
        "         0 4 4 0\n",
        "         0 0 0 0 ]\n",
        "         \n",
        "output: [ 0 1 1 0\n",
        "          1 1 1 1\n",
        "          0 1 1 0 ]"
      ]
    },
    {
      "cell_type": "markdown",
      "metadata": {
        "id": "-A6gE83HKUV7"
      },
      "source": [
        "input: [ 3 0 0  0 3 0\n",
        "         0 0 0  0 0 0\n",
        "         0 0 15 0 5 0 \n",
        "         0 0 0  0 0 0\n",
        "         0 0 0  0 0 0]\n",
        "         \n",
        "       [ 3 0 0 0 3 0\n",
        "         0 0 3 0 1 0\n",
        "         0 3 3 4 1 1\n",
        "         0 0 3 0 1 0\n",
        "         0 0 0 0 0 0 ]\n",
        "     # not the final stage.. you need to continue until all are less than 4."
      ]
    },
    {
      "cell_type": "code",
      "metadata": {
        "id": "j8L8if8rKUV8"
      },
      "source": [
        "def ques_06(a):\n",
        "    row = len(a[0])\n",
        "    col = len(a)\n",
        "    for i in range(col):\n",
        "        for j in range(row):\n",
        "            while a[i][j]>=4:\n",
        "                \n",
        "                if i-1>=0:\n",
        "                    if a[i-1][j]<3:\n",
        "                        a[i-1][j]+=1\n",
        "                        a[i][j]-=1\n",
        "                \n",
        "    return a"
      ],
      "execution_count": 103,
      "outputs": []
    },
    {
      "cell_type": "code",
      "metadata": {
        "colab": {
          "base_uri": "https://localhost:8080/",
          "height": 0
        },
        "id": "SJhUati9KUV9",
        "outputId": "40ebcc4e-d662-4f22-9c83-f25758b251b7"
      },
      "source": [
        "# run this cell to check your output. Don't modify this cell\n",
        "\n",
        "a= [ [0, 0, 0, 0],\n",
        "     [0, 0, 4, 0],\n",
        "     [0, 0, 0, 0] ]\n",
        "\n",
        "out=  [ [0, 0, 1, 0],\n",
        "        [0, 1, 0, 1],\n",
        "        [0, 0, 1, 0] ]\n",
        "\n",
        "ques_06(a)==out"
      ],
      "execution_count": 104,
      "outputs": [
        {
          "output_type": "execute_result",
          "data": {
            "text/plain": [
              "False"
            ]
          },
          "metadata": {
            "tags": []
          },
          "execution_count": 104
        }
      ]
    },
    {
      "cell_type": "code",
      "metadata": {
        "colab": {
          "base_uri": "https://localhost:8080/",
          "height": 0
        },
        "id": "9wBAZhfIKUV-",
        "outputId": "5b9d49f7-fbdb-44da-9abb-ec60af5f58dc"
      },
      "source": [
        "# run this cell to check your output. Don't modify this cell\n",
        "\n",
        "a= [ [0, 0, 0, 0],\n",
        "     [0, 4, 4, 0],\n",
        "     [0, 0, 0, 0] ]\n",
        "\n",
        "out=  [ [0, 1, 1, 0],\n",
        "        [1, 1, 1, 1],\n",
        "        [0, 1, 1, 0] ]\n",
        "\n",
        "ques_06(a)==out"
      ],
      "execution_count": 105,
      "outputs": [
        {
          "output_type": "execute_result",
          "data": {
            "text/plain": [
              "False"
            ]
          },
          "metadata": {
            "tags": []
          },
          "execution_count": 105
        }
      ]
    },
    {
      "cell_type": "code",
      "metadata": {
        "colab": {
          "base_uri": "https://localhost:8080/",
          "height": 0
        },
        "id": "FfL70SwtKUV_",
        "outputId": "2f3c88df-b6be-41dd-8d3e-f95b68958424"
      },
      "source": [
        "# run this cell to check your output. Don't modify this cell\n",
        "\n",
        "a= [ [0, 0, 0, 1],\n",
        "     [2, 1, 3, 0],\n",
        "     [0, 2, 0, 3] ]\n",
        "\n",
        "out=  [ [0, 0, 0, 1],\n",
        "        [2, 1, 3, 0],\n",
        "        [0, 2, 0, 3] ]\n",
        "\n",
        "ques_06(a)==out"
      ],
      "execution_count": 106,
      "outputs": [
        {
          "output_type": "execute_result",
          "data": {
            "text/plain": [
              "True"
            ]
          },
          "metadata": {
            "tags": []
          },
          "execution_count": 106
        }
      ]
    },
    {
      "cell_type": "code",
      "metadata": {
        "colab": {
          "base_uri": "https://localhost:8080/",
          "height": 0
        },
        "id": "Fo-6q6rdKUWA",
        "outputId": "d0ac7d24-d4bd-4e4a-d1b1-5b88de91d375"
      },
      "source": [
        "# run this cell to check your output. Don't modify this cell\n",
        "import numpy as np\n",
        "\n",
        "a= np.random.randint(0,4,(4,10))\n",
        "\n",
        "out=a\n",
        "\n",
        "ques_06(a)==out"
      ],
      "execution_count": 107,
      "outputs": [
        {
          "output_type": "execute_result",
          "data": {
            "text/plain": [
              "array([[ True,  True,  True,  True,  True,  True,  True,  True,  True,\n",
              "         True],\n",
              "       [ True,  True,  True,  True,  True,  True,  True,  True,  True,\n",
              "         True],\n",
              "       [ True,  True,  True,  True,  True,  True,  True,  True,  True,\n",
              "         True],\n",
              "       [ True,  True,  True,  True,  True,  True,  True,  True,  True,\n",
              "         True]])"
            ]
          },
          "metadata": {
            "tags": []
          },
          "execution_count": 107
        }
      ]
    },
    {
      "cell_type": "code",
      "metadata": {
        "id": "AL2nimkxKUWB"
      },
      "source": [
        "# run this cell to check your output. Don't modify this cell\n",
        "\n",
        "a= [ [0, 0, 1, 0],\n",
        "     [2, 0, 9, 0],\n",
        "     [0, 3, 0, 0] ]\n",
        "\n",
        "out=  [ [0, 0, 3, 0],\n",
        "        [2, 2, 1, 2],\n",
        "        [0, 3, 2, 0] ]\n",
        "\n",
        "ques_06(a)==out"
      ],
      "execution_count": null,
      "outputs": []
    }
  ]
}